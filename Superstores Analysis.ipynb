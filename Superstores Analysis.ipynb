{
 "cells": [
  {
   "cell_type": "markdown",
   "metadata": {},
   "source": [
    "# Mid-Course Project\n",
    "\n",
    "\n",
    "\n",
    "### Problem Statement\n",
    "\n",
    "A multinational retail company decides to embark on a campaign called **'Operation  Increase Sales and Profit' (OISP)** which focuses on increasing the sales of the company and maximising profit. \n",
    "\n",
    "Before the management team of the company can take any actionable decision with regards to the campaign,they want to draw the necessary insight from their 'sitting data'.\n",
    "\n",
    "As their Data Analyst,you are presented with their four year daily sales records (**superstore data.csv**).\n",
    "\n",
    "#### Task\n",
    "Analyse the given  data and advise management on what to do to increase sales and profit as intended in the compaign.\n",
    "\n",
    "Kindly  outlay your analytical steps inline with CRISP-DM(Cross Industry Standard Process for Data Mining)steps, asking the nescessary questions and providing answers based on the data.\n",
    "\n",
    "\n",
    "Management expects statistical summaries of the key variables considering the aim of the campaign, visualizations and a report on your findings and your advice.\n",
    "\n",
    "**Use Powerpoint or any other presentation application for your presentation.**\n",
    "\n",
    "Good Luck !\n",
    "\n",
    "\n",
    "\n",
    "\n",
    "\n",
    "\n"
   ]
  },
  {
   "cell_type": "code",
   "execution_count": null,
   "metadata": {},
   "outputs": [],
   "source": []
  },
  {
   "cell_type": "code",
   "execution_count": 1,
   "metadata": {},
   "outputs": [],
   "source": [
    "##Importing the necessary packages\n",
    "import pandas as pd\n",
    "import numpy as np\n",
    "import matplotlib.pyplot as plt\n",
    "import seaborn as sns\n",
    "import warnings\n",
    "#warnings.filterwarnings('ignore')\n",
    "\n",
    "%matplotlib inline\n",
    "pd.set_option('display.max_colwidth',None)\n",
    "pd.set_option('display.max_columns',None)\n"
   ]
  },
  {
   "cell_type": "code",
   "execution_count": 4,
   "metadata": {
    "scrolled": false
   },
   "outputs": [],
   "source": [
    "#Loading the data\n",
    "\n",
    "data = pd.read_csv('sales_data.csv',parse_dates = ['Order Date'],index_col = 'Unnamed: 0')"
   ]
  },
  {
   "cell_type": "code",
   "execution_count": 5,
   "metadata": {},
   "outputs": [
    {
     "data": {
      "text/html": [
       "<div>\n",
       "<style scoped>\n",
       "    .dataframe tbody tr th:only-of-type {\n",
       "        vertical-align: middle;\n",
       "    }\n",
       "\n",
       "    .dataframe tbody tr th {\n",
       "        vertical-align: top;\n",
       "    }\n",
       "\n",
       "    .dataframe thead th {\n",
       "        text-align: right;\n",
       "    }\n",
       "</style>\n",
       "<table border=\"1\" class=\"dataframe\">\n",
       "  <thead>\n",
       "    <tr style=\"text-align: right;\">\n",
       "      <th></th>\n",
       "      <th>Order Date</th>\n",
       "      <th>Order ID</th>\n",
       "      <th>Customer ID</th>\n",
       "      <th>Customer Name</th>\n",
       "      <th>Segment</th>\n",
       "      <th>City</th>\n",
       "      <th>Market</th>\n",
       "      <th>Region</th>\n",
       "      <th>Category</th>\n",
       "      <th>Sub-Category</th>\n",
       "      <th>Product Name</th>\n",
       "      <th>Sales</th>\n",
       "      <th>Quantity</th>\n",
       "      <th>Discount</th>\n",
       "      <th>Profit</th>\n",
       "    </tr>\n",
       "  </thead>\n",
       "  <tbody>\n",
       "    <tr>\n",
       "      <th>0</th>\n",
       "      <td>2013-01-01</td>\n",
       "      <td>ID-2013-37383</td>\n",
       "      <td>MY-18295</td>\n",
       "      <td>Muhammed Yedwab</td>\n",
       "      <td>Corporate</td>\n",
       "      <td>Albury</td>\n",
       "      <td>APAC</td>\n",
       "      <td>Oceania</td>\n",
       "      <td>Technology</td>\n",
       "      <td>Copiers</td>\n",
       "      <td>Canon Copy Machine, Digital</td>\n",
       "      <td>1649.214</td>\n",
       "      <td>7</td>\n",
       "      <td>0.1</td>\n",
       "      <td>36.624</td>\n",
       "    </tr>\n",
       "    <tr>\n",
       "      <th>1</th>\n",
       "      <td>2013-01-01</td>\n",
       "      <td>IN-2013-47960</td>\n",
       "      <td>JE-15715</td>\n",
       "      <td>Joe Elijah</td>\n",
       "      <td>Consumer</td>\n",
       "      <td>Tianjin</td>\n",
       "      <td>APAC</td>\n",
       "      <td>North Asia</td>\n",
       "      <td>Furniture</td>\n",
       "      <td>Bookcases</td>\n",
       "      <td>Sauder Floating Shelf Set, Metal</td>\n",
       "      <td>1358.280</td>\n",
       "      <td>7</td>\n",
       "      <td>0.0</td>\n",
       "      <td>203.700</td>\n",
       "    </tr>\n",
       "    <tr>\n",
       "      <th>2</th>\n",
       "      <td>2013-01-01</td>\n",
       "      <td>ID-2013-37383</td>\n",
       "      <td>MY-18295</td>\n",
       "      <td>Muhammed Yedwab</td>\n",
       "      <td>Corporate</td>\n",
       "      <td>Albury</td>\n",
       "      <td>APAC</td>\n",
       "      <td>Oceania</td>\n",
       "      <td>Technology</td>\n",
       "      <td>Accessories</td>\n",
       "      <td>Logitech Memory Card, Erganomic</td>\n",
       "      <td>728.568</td>\n",
       "      <td>8</td>\n",
       "      <td>0.1</td>\n",
       "      <td>-32.472</td>\n",
       "    </tr>\n",
       "    <tr>\n",
       "      <th>3</th>\n",
       "      <td>2013-01-01</td>\n",
       "      <td>IN-2013-47960</td>\n",
       "      <td>JE-15715</td>\n",
       "      <td>Joe Elijah</td>\n",
       "      <td>Consumer</td>\n",
       "      <td>Tianjin</td>\n",
       "      <td>APAC</td>\n",
       "      <td>North Asia</td>\n",
       "      <td>Furniture</td>\n",
       "      <td>Bookcases</td>\n",
       "      <td>Dania Library with Doors, Mobile</td>\n",
       "      <td>2189.520</td>\n",
       "      <td>6</td>\n",
       "      <td>0.0</td>\n",
       "      <td>372.060</td>\n",
       "    </tr>\n",
       "    <tr>\n",
       "      <th>4</th>\n",
       "      <td>2013-01-01</td>\n",
       "      <td>IN-2013-47960</td>\n",
       "      <td>JE-15715</td>\n",
       "      <td>Joe Elijah</td>\n",
       "      <td>Consumer</td>\n",
       "      <td>Tianjin</td>\n",
       "      <td>APAC</td>\n",
       "      <td>North Asia</td>\n",
       "      <td>Furniture</td>\n",
       "      <td>Bookcases</td>\n",
       "      <td>Sauder Floating Shelf Set, Traditional</td>\n",
       "      <td>1362.060</td>\n",
       "      <td>7</td>\n",
       "      <td>0.0</td>\n",
       "      <td>340.410</td>\n",
       "    </tr>\n",
       "  </tbody>\n",
       "</table>\n",
       "</div>"
      ],
      "text/plain": [
       "  Order Date       Order ID Customer ID    Customer Name    Segment     City  \\\n",
       "0 2013-01-01  ID-2013-37383    MY-18295  Muhammed Yedwab  Corporate   Albury   \n",
       "1 2013-01-01  IN-2013-47960    JE-15715       Joe Elijah   Consumer  Tianjin   \n",
       "2 2013-01-01  ID-2013-37383    MY-18295  Muhammed Yedwab  Corporate   Albury   \n",
       "3 2013-01-01  IN-2013-47960    JE-15715       Joe Elijah   Consumer  Tianjin   \n",
       "4 2013-01-01  IN-2013-47960    JE-15715       Joe Elijah   Consumer  Tianjin   \n",
       "\n",
       "  Market      Region    Category Sub-Category  \\\n",
       "0   APAC     Oceania  Technology      Copiers   \n",
       "1   APAC  North Asia   Furniture    Bookcases   \n",
       "2   APAC     Oceania  Technology  Accessories   \n",
       "3   APAC  North Asia   Furniture    Bookcases   \n",
       "4   APAC  North Asia   Furniture    Bookcases   \n",
       "\n",
       "                             Product Name     Sales  Quantity  Discount  \\\n",
       "0             Canon Copy Machine, Digital  1649.214         7       0.1   \n",
       "1        Sauder Floating Shelf Set, Metal  1358.280         7       0.0   \n",
       "2         Logitech Memory Card, Erganomic   728.568         8       0.1   \n",
       "3        Dania Library with Doors, Mobile  2189.520         6       0.0   \n",
       "4  Sauder Floating Shelf Set, Traditional  1362.060         7       0.0   \n",
       "\n",
       "    Profit  \n",
       "0   36.624  \n",
       "1  203.700  \n",
       "2  -32.472  \n",
       "3  372.060  \n",
       "4  340.410  "
      ]
     },
     "execution_count": 5,
     "metadata": {},
     "output_type": "execute_result"
    }
   ],
   "source": [
    "data.head()"
   ]
  },
  {
   "cell_type": "code",
   "execution_count": 6,
   "metadata": {
    "scrolled": true
   },
   "outputs": [
    {
     "name": "stdout",
     "output_type": "stream",
     "text": [
      "Order Date\n",
      "Order ID\n",
      "Customer ID\n",
      "Customer Name\n",
      "Segment\n",
      "City\n",
      "Market\n",
      "Region\n",
      "Category\n",
      "Sub-Category\n",
      "Product Name\n",
      "Sales\n",
      "Quantity\n",
      "Discount\n",
      "Profit\n"
     ]
    }
   ],
   "source": [
    "# checking the number of columns\n",
    "for col in data.columns:\n",
    "    print(col)"
   ]
  },
  {
   "cell_type": "code",
   "execution_count": 7,
   "metadata": {},
   "outputs": [
    {
     "data": {
      "text/plain": [
       "(13799, 15)"
      ]
     },
     "execution_count": 7,
     "metadata": {},
     "output_type": "execute_result"
    }
   ],
   "source": [
    "data.shape"
   ]
  },
  {
   "cell_type": "code",
   "execution_count": 8,
   "metadata": {
    "scrolled": true
   },
   "outputs": [
    {
     "name": "stdout",
     "output_type": "stream",
     "text": [
      "<class 'pandas.core.frame.DataFrame'>\n",
      "Int64Index: 13799 entries, 0 to 13798\n",
      "Data columns (total 15 columns):\n",
      " #   Column         Non-Null Count  Dtype         \n",
      "---  ------         --------------  -----         \n",
      " 0   Order Date     13799 non-null  datetime64[ns]\n",
      " 1   Order ID       13799 non-null  object        \n",
      " 2   Customer ID    13799 non-null  object        \n",
      " 3   Customer Name  13799 non-null  object        \n",
      " 4   Segment        13799 non-null  object        \n",
      " 5   City           13799 non-null  object        \n",
      " 6   Market         13799 non-null  object        \n",
      " 7   Region         13799 non-null  object        \n",
      " 8   Category       13799 non-null  object        \n",
      " 9   Sub-Category   13799 non-null  object        \n",
      " 10  Product Name   13799 non-null  object        \n",
      " 11  Sales          13799 non-null  float64       \n",
      " 12  Quantity       13799 non-null  int64         \n",
      " 13  Discount       13799 non-null  float64       \n",
      " 14  Profit         13799 non-null  float64       \n",
      "dtypes: datetime64[ns](1), float64(3), int64(1), object(10)\n",
      "memory usage: 1.7+ MB\n"
     ]
    }
   ],
   "source": [
    "data.info()"
   ]
  },
  {
   "cell_type": "code",
   "execution_count": 9,
   "metadata": {},
   "outputs": [
    {
     "data": {
      "text/plain": [
       "3"
      ]
     },
     "execution_count": 9,
     "metadata": {},
     "output_type": "execute_result"
    }
   ],
   "source": [
    "#checking for duplicates\n",
    "data.duplicated().sum()"
   ]
  },
  {
   "cell_type": "code",
   "execution_count": 11,
   "metadata": {
    "scrolled": true
   },
   "outputs": [
    {
     "data": {
      "text/html": [
       "<div>\n",
       "<style scoped>\n",
       "    .dataframe tbody tr th:only-of-type {\n",
       "        vertical-align: middle;\n",
       "    }\n",
       "\n",
       "    .dataframe tbody tr th {\n",
       "        vertical-align: top;\n",
       "    }\n",
       "\n",
       "    .dataframe thead th {\n",
       "        text-align: right;\n",
       "    }\n",
       "</style>\n",
       "<table border=\"1\" class=\"dataframe\">\n",
       "  <thead>\n",
       "    <tr style=\"text-align: right;\">\n",
       "      <th></th>\n",
       "      <th>Order Date</th>\n",
       "      <th>Order ID</th>\n",
       "      <th>Customer ID</th>\n",
       "      <th>Customer Name</th>\n",
       "      <th>Segment</th>\n",
       "      <th>City</th>\n",
       "      <th>Market</th>\n",
       "      <th>Region</th>\n",
       "      <th>Category</th>\n",
       "      <th>Sub-Category</th>\n",
       "      <th>Product Name</th>\n",
       "      <th>Sales</th>\n",
       "      <th>Quantity</th>\n",
       "      <th>Discount</th>\n",
       "      <th>Profit</th>\n",
       "    </tr>\n",
       "  </thead>\n",
       "  <tbody>\n",
       "    <tr>\n",
       "      <th>2299</th>\n",
       "      <td>2013-06-06</td>\n",
       "      <td>IN-2013-66265</td>\n",
       "      <td>SF-20200</td>\n",
       "      <td>Sarah Foster</td>\n",
       "      <td>Consumer</td>\n",
       "      <td>Newcastle</td>\n",
       "      <td>APAC</td>\n",
       "      <td>Oceania</td>\n",
       "      <td>Office Supplies</td>\n",
       "      <td>Art</td>\n",
       "      <td>Stanley Pencil Sharpener, Easy-Erase</td>\n",
       "      <td>23.436</td>\n",
       "      <td>1</td>\n",
       "      <td>0.1</td>\n",
       "      <td>9.876</td>\n",
       "    </tr>\n",
       "    <tr>\n",
       "      <th>2314</th>\n",
       "      <td>2013-06-06</td>\n",
       "      <td>IN-2013-66265</td>\n",
       "      <td>SF-20200</td>\n",
       "      <td>Sarah Foster</td>\n",
       "      <td>Consumer</td>\n",
       "      <td>Newcastle</td>\n",
       "      <td>APAC</td>\n",
       "      <td>Oceania</td>\n",
       "      <td>Office Supplies</td>\n",
       "      <td>Art</td>\n",
       "      <td>Stanley Pencil Sharpener, Easy-Erase</td>\n",
       "      <td>23.436</td>\n",
       "      <td>1</td>\n",
       "      <td>0.1</td>\n",
       "      <td>9.876</td>\n",
       "    </tr>\n",
       "    <tr>\n",
       "      <th>6095</th>\n",
       "      <td>2013-06-14</td>\n",
       "      <td>ES-2013-2926991</td>\n",
       "      <td>SR-20740</td>\n",
       "      <td>Steven Roelle</td>\n",
       "      <td>Home Office</td>\n",
       "      <td>Madrid</td>\n",
       "      <td>EU</td>\n",
       "      <td>South</td>\n",
       "      <td>Office Supplies</td>\n",
       "      <td>Binders</td>\n",
       "      <td>Wilson Jones 3-Hole Punch, Economy</td>\n",
       "      <td>83.970</td>\n",
       "      <td>3</td>\n",
       "      <td>0.0</td>\n",
       "      <td>27.630</td>\n",
       "    </tr>\n",
       "    <tr>\n",
       "      <th>6098</th>\n",
       "      <td>2013-06-14</td>\n",
       "      <td>ES-2013-2926991</td>\n",
       "      <td>SR-20740</td>\n",
       "      <td>Steven Roelle</td>\n",
       "      <td>Home Office</td>\n",
       "      <td>Madrid</td>\n",
       "      <td>EU</td>\n",
       "      <td>South</td>\n",
       "      <td>Office Supplies</td>\n",
       "      <td>Binders</td>\n",
       "      <td>Wilson Jones 3-Hole Punch, Economy</td>\n",
       "      <td>83.970</td>\n",
       "      <td>3</td>\n",
       "      <td>0.0</td>\n",
       "      <td>27.630</td>\n",
       "    </tr>\n",
       "    <tr>\n",
       "      <th>10021</th>\n",
       "      <td>2013-02-23</td>\n",
       "      <td>KE-2013-2790</td>\n",
       "      <td>PC-9000</td>\n",
       "      <td>Pauline Chand</td>\n",
       "      <td>Home Office</td>\n",
       "      <td>Thika</td>\n",
       "      <td>Africa</td>\n",
       "      <td>Africa</td>\n",
       "      <td>Office Supplies</td>\n",
       "      <td>Envelopes</td>\n",
       "      <td>Cameo Business Envelopes, Set of 50</td>\n",
       "      <td>20.490</td>\n",
       "      <td>1</td>\n",
       "      <td>0.0</td>\n",
       "      <td>8.190</td>\n",
       "    </tr>\n",
       "    <tr>\n",
       "      <th>10023</th>\n",
       "      <td>2013-02-23</td>\n",
       "      <td>KE-2013-2790</td>\n",
       "      <td>PC-9000</td>\n",
       "      <td>Pauline Chand</td>\n",
       "      <td>Home Office</td>\n",
       "      <td>Thika</td>\n",
       "      <td>Africa</td>\n",
       "      <td>Africa</td>\n",
       "      <td>Office Supplies</td>\n",
       "      <td>Envelopes</td>\n",
       "      <td>Cameo Business Envelopes, Set of 50</td>\n",
       "      <td>20.490</td>\n",
       "      <td>1</td>\n",
       "      <td>0.0</td>\n",
       "      <td>8.190</td>\n",
       "    </tr>\n",
       "  </tbody>\n",
       "</table>\n",
       "</div>"
      ],
      "text/plain": [
       "      Order Date         Order ID Customer ID  Customer Name      Segment  \\\n",
       "2299  2013-06-06    IN-2013-66265    SF-20200   Sarah Foster     Consumer   \n",
       "2314  2013-06-06    IN-2013-66265    SF-20200   Sarah Foster     Consumer   \n",
       "6095  2013-06-14  ES-2013-2926991    SR-20740  Steven Roelle  Home Office   \n",
       "6098  2013-06-14  ES-2013-2926991    SR-20740  Steven Roelle  Home Office   \n",
       "10021 2013-02-23     KE-2013-2790     PC-9000  Pauline Chand  Home Office   \n",
       "10023 2013-02-23     KE-2013-2790     PC-9000  Pauline Chand  Home Office   \n",
       "\n",
       "            City  Market   Region         Category Sub-Category  \\\n",
       "2299   Newcastle    APAC  Oceania  Office Supplies          Art   \n",
       "2314   Newcastle    APAC  Oceania  Office Supplies          Art   \n",
       "6095      Madrid      EU    South  Office Supplies      Binders   \n",
       "6098      Madrid      EU    South  Office Supplies      Binders   \n",
       "10021      Thika  Africa   Africa  Office Supplies    Envelopes   \n",
       "10023      Thika  Africa   Africa  Office Supplies    Envelopes   \n",
       "\n",
       "                               Product Name   Sales  Quantity  Discount  \\\n",
       "2299   Stanley Pencil Sharpener, Easy-Erase  23.436         1       0.1   \n",
       "2314   Stanley Pencil Sharpener, Easy-Erase  23.436         1       0.1   \n",
       "6095     Wilson Jones 3-Hole Punch, Economy  83.970         3       0.0   \n",
       "6098     Wilson Jones 3-Hole Punch, Economy  83.970         3       0.0   \n",
       "10021   Cameo Business Envelopes, Set of 50  20.490         1       0.0   \n",
       "10023   Cameo Business Envelopes, Set of 50  20.490         1       0.0   \n",
       "\n",
       "       Profit  \n",
       "2299    9.876  \n",
       "2314    9.876  \n",
       "6095   27.630  \n",
       "6098   27.630  \n",
       "10021   8.190  \n",
       "10023   8.190  "
      ]
     },
     "execution_count": 11,
     "metadata": {},
     "output_type": "execute_result"
    }
   ],
   "source": [
    "data[data.duplicated(keep =  False)]"
   ]
  },
  {
   "cell_type": "code",
   "execution_count": 12,
   "metadata": {},
   "outputs": [],
   "source": [
    "#Removing Duplicates\n",
    "data.drop_duplicates(inplace = True)"
   ]
  },
  {
   "cell_type": "code",
   "execution_count": 14,
   "metadata": {
    "scrolled": true
   },
   "outputs": [
    {
     "data": {
      "text/plain": [
       "0"
      ]
     },
     "execution_count": 14,
     "metadata": {},
     "output_type": "execute_result"
    }
   ],
   "source": [
    "#checking for duplicates, again\n",
    "data.duplicated().sum()"
   ]
  },
  {
   "cell_type": "code",
   "execution_count": 33,
   "metadata": {
    "scrolled": false
   },
   "outputs": [
    {
     "data": {
      "text/html": [
       "<div>\n",
       "<style scoped>\n",
       "    .dataframe tbody tr th:only-of-type {\n",
       "        vertical-align: middle;\n",
       "    }\n",
       "\n",
       "    .dataframe tbody tr th {\n",
       "        vertical-align: top;\n",
       "    }\n",
       "\n",
       "    .dataframe thead th {\n",
       "        text-align: right;\n",
       "    }\n",
       "</style>\n",
       "<table border=\"1\" class=\"dataframe\">\n",
       "  <thead>\n",
       "    <tr style=\"text-align: right;\">\n",
       "      <th></th>\n",
       "      <th>Sales</th>\n",
       "      <th>Quantity</th>\n",
       "      <th>Discount</th>\n",
       "      <th>Profit</th>\n",
       "    </tr>\n",
       "  </thead>\n",
       "  <tbody>\n",
       "    <tr>\n",
       "      <th>count</th>\n",
       "      <td>13796.000000</td>\n",
       "      <td>13796.000000</td>\n",
       "      <td>13796.000000</td>\n",
       "      <td>13796.000000</td>\n",
       "    </tr>\n",
       "    <tr>\n",
       "      <th>mean</th>\n",
       "      <td>246.855505</td>\n",
       "      <td>3.488765</td>\n",
       "      <td>0.140289</td>\n",
       "      <td>29.493298</td>\n",
       "    </tr>\n",
       "    <tr>\n",
       "      <th>std</th>\n",
       "      <td>494.763858</td>\n",
       "      <td>2.280212</td>\n",
       "      <td>0.210067</td>\n",
       "      <td>190.381857</td>\n",
       "    </tr>\n",
       "    <tr>\n",
       "      <th>min</th>\n",
       "      <td>0.836000</td>\n",
       "      <td>1.000000</td>\n",
       "      <td>0.000000</td>\n",
       "      <td>-6599.978000</td>\n",
       "    </tr>\n",
       "    <tr>\n",
       "      <th>25%</th>\n",
       "      <td>30.825000</td>\n",
       "      <td>2.000000</td>\n",
       "      <td>0.000000</td>\n",
       "      <td>0.000000</td>\n",
       "    </tr>\n",
       "    <tr>\n",
       "      <th>50%</th>\n",
       "      <td>85.246000</td>\n",
       "      <td>3.000000</td>\n",
       "      <td>0.000000</td>\n",
       "      <td>9.240000</td>\n",
       "    </tr>\n",
       "    <tr>\n",
       "      <th>75%</th>\n",
       "      <td>249.720000</td>\n",
       "      <td>5.000000</td>\n",
       "      <td>0.200000</td>\n",
       "      <td>36.868000</td>\n",
       "    </tr>\n",
       "    <tr>\n",
       "      <th>max</th>\n",
       "      <td>17499.950000</td>\n",
       "      <td>14.000000</td>\n",
       "      <td>0.800000</td>\n",
       "      <td>8399.976000</td>\n",
       "    </tr>\n",
       "  </tbody>\n",
       "</table>\n",
       "</div>"
      ],
      "text/plain": [
       "              Sales      Quantity      Discount        Profit\n",
       "count  13796.000000  13796.000000  13796.000000  13796.000000\n",
       "mean     246.855505      3.488765      0.140289     29.493298\n",
       "std      494.763858      2.280212      0.210067    190.381857\n",
       "min        0.836000      1.000000      0.000000  -6599.978000\n",
       "25%       30.825000      2.000000      0.000000      0.000000\n",
       "50%       85.246000      3.000000      0.000000      9.240000\n",
       "75%      249.720000      5.000000      0.200000     36.868000\n",
       "max    17499.950000     14.000000      0.800000   8399.976000"
      ]
     },
     "execution_count": 33,
     "metadata": {},
     "output_type": "execute_result"
    }
   ],
   "source": [
    "data.describe()"
   ]
  },
  {
   "cell_type": "code",
   "execution_count": 34,
   "metadata": {
    "scrolled": false
   },
   "outputs": [
    {
     "name": "stderr",
     "output_type": "stream",
     "text": [
      "C:\\Users\\user\\AppData\\Local\\Temp\\ipykernel_23708\\2743208382.py:1: DeprecationWarning: `np.object` is a deprecated alias for the builtin `object`. To silence this warning, use `object` by itself. Doing this will not modify any behavior and is safe. \n",
      "Deprecated in NumPy 1.20; for more details and guidance: https://numpy.org/devdocs/release/1.20.0-notes.html#deprecations\n",
      "  data.describe(include = np.object)\n"
     ]
    },
    {
     "data": {
      "text/html": [
       "<div>\n",
       "<style scoped>\n",
       "    .dataframe tbody tr th:only-of-type {\n",
       "        vertical-align: middle;\n",
       "    }\n",
       "\n",
       "    .dataframe tbody tr th {\n",
       "        vertical-align: top;\n",
       "    }\n",
       "\n",
       "    .dataframe thead th {\n",
       "        text-align: right;\n",
       "    }\n",
       "</style>\n",
       "<table border=\"1\" class=\"dataframe\">\n",
       "  <thead>\n",
       "    <tr style=\"text-align: right;\">\n",
       "      <th></th>\n",
       "      <th>Order ID</th>\n",
       "      <th>Customer ID</th>\n",
       "      <th>Customer Name</th>\n",
       "      <th>Segment</th>\n",
       "      <th>City</th>\n",
       "      <th>Market</th>\n",
       "      <th>Region</th>\n",
       "      <th>Category</th>\n",
       "      <th>Sub-Category</th>\n",
       "      <th>Product Name</th>\n",
       "    </tr>\n",
       "  </thead>\n",
       "  <tbody>\n",
       "    <tr>\n",
       "      <th>count</th>\n",
       "      <td>13796</td>\n",
       "      <td>13796</td>\n",
       "      <td>13796</td>\n",
       "      <td>13796</td>\n",
       "      <td>13796</td>\n",
       "      <td>13796</td>\n",
       "      <td>13796</td>\n",
       "      <td>13796</td>\n",
       "      <td>13796</td>\n",
       "      <td>13796</td>\n",
       "    </tr>\n",
       "    <tr>\n",
       "      <th>unique</th>\n",
       "      <td>6721</td>\n",
       "      <td>1458</td>\n",
       "      <td>795</td>\n",
       "      <td>3</td>\n",
       "      <td>2195</td>\n",
       "      <td>7</td>\n",
       "      <td>13</td>\n",
       "      <td>3</td>\n",
       "      <td>17</td>\n",
       "      <td>3242</td>\n",
       "    </tr>\n",
       "    <tr>\n",
       "      <th>top</th>\n",
       "      <td>IN-2013-42311</td>\n",
       "      <td>PK-19075</td>\n",
       "      <td>Pete Kriz</td>\n",
       "      <td>Consumer</td>\n",
       "      <td>New York City</td>\n",
       "      <td>LATAM</td>\n",
       "      <td>Central</td>\n",
       "      <td>Office Supplies</td>\n",
       "      <td>Binders</td>\n",
       "      <td>Staples</td>\n",
       "    </tr>\n",
       "    <tr>\n",
       "      <th>freq</th>\n",
       "      <td>13</td>\n",
       "      <td>37</td>\n",
       "      <td>47</td>\n",
       "      <td>7090</td>\n",
       "      <td>257</td>\n",
       "      <td>3060</td>\n",
       "      <td>3055</td>\n",
       "      <td>8388</td>\n",
       "      <td>1669</td>\n",
       "      <td>49</td>\n",
       "    </tr>\n",
       "  </tbody>\n",
       "</table>\n",
       "</div>"
      ],
      "text/plain": [
       "             Order ID Customer ID Customer Name   Segment           City  \\\n",
       "count           13796       13796         13796     13796          13796   \n",
       "unique           6721        1458           795         3           2195   \n",
       "top     IN-2013-42311    PK-19075     Pete Kriz  Consumer  New York City   \n",
       "freq               13          37            47      7090            257   \n",
       "\n",
       "       Market   Region         Category Sub-Category Product Name  \n",
       "count   13796    13796            13796        13796        13796  \n",
       "unique      7       13                3           17         3242  \n",
       "top     LATAM  Central  Office Supplies      Binders      Staples  \n",
       "freq     3060     3055             8388         1669           49  "
      ]
     },
     "execution_count": 34,
     "metadata": {},
     "output_type": "execute_result"
    }
   ],
   "source": [
    "data.describe(include = np.object)"
   ]
  },
  {
   "cell_type": "markdown",
   "metadata": {},
   "source": [
    "### Checking individual columns"
   ]
  },
  {
   "cell_type": "code",
   "execution_count": 20,
   "metadata": {},
   "outputs": [
    {
     "data": {
      "text/plain": [
       "3242"
      ]
     },
     "execution_count": 20,
     "metadata": {},
     "output_type": "execute_result"
    }
   ],
   "source": [
    "data['Product Name'].nunique()"
   ]
  },
  {
   "cell_type": "code",
   "execution_count": 115,
   "metadata": {},
   "outputs": [
    {
     "data": {
      "text/plain": [
       "count       13796\n",
       "unique       3242\n",
       "top       Staples\n",
       "freq           49\n",
       "Name: Product Name, dtype: object"
      ]
     },
     "execution_count": 115,
     "metadata": {},
     "output_type": "execute_result"
    }
   ],
   "source": [
    "data['Product Name'].describe()"
   ]
  },
  {
   "cell_type": "code",
   "execution_count": 116,
   "metadata": {},
   "outputs": [
    {
     "data": {
      "text/plain": [
       "count               13796\n",
       "unique                  3\n",
       "top       Office Supplies\n",
       "freq                 8388\n",
       "Name: Category, dtype: object"
      ]
     },
     "execution_count": 116,
     "metadata": {},
     "output_type": "execute_result"
    }
   ],
   "source": [
    "data['Category'].describe()"
   ]
  },
  {
   "cell_type": "code",
   "execution_count": 28,
   "metadata": {},
   "outputs": [
    {
     "data": {
      "text/plain": [
       "array(['Oceania', 'North Asia', 'Central', 'North', 'Central Asia',\n",
       "       'South', 'Africa', 'Canada', 'EMEA', 'Caribbean', 'West', 'East',\n",
       "       'Southeast Asia'], dtype=object)"
      ]
     },
     "execution_count": 28,
     "metadata": {},
     "output_type": "execute_result"
    }
   ],
   "source": [
    "data['Region'].unique()"
   ]
  },
  {
   "cell_type": "code",
   "execution_count": 117,
   "metadata": {},
   "outputs": [
    {
     "data": {
      "text/plain": [
       "count       13796\n",
       "unique         13\n",
       "top       Central\n",
       "freq         3055\n",
       "Name: Region, dtype: object"
      ]
     },
     "execution_count": 117,
     "metadata": {},
     "output_type": "execute_result"
    }
   ],
   "source": [
    "data['Region'].describe()"
   ]
  },
  {
   "cell_type": "code",
   "execution_count": 31,
   "metadata": {
    "scrolled": false
   },
   "outputs": [
    {
     "data": {
      "text/plain": [
       "2195"
      ]
     },
     "execution_count": 31,
     "metadata": {},
     "output_type": "execute_result"
    }
   ],
   "source": [
    "data['City'].nunique()"
   ]
  },
  {
   "cell_type": "code",
   "execution_count": 74,
   "metadata": {},
   "outputs": [
    {
     "data": {
      "text/plain": [
       "array(['APAC', 'EU', 'Africa', 'Canada', 'EMEA', 'LATAM', 'US'],\n",
       "      dtype=object)"
      ]
     },
     "execution_count": 74,
     "metadata": {},
     "output_type": "execute_result"
    }
   ],
   "source": [
    "data['Market'].unique()"
   ]
  },
  {
   "cell_type": "code",
   "execution_count": 118,
   "metadata": {},
   "outputs": [
    {
     "data": {
      "text/plain": [
       "count     13796\n",
       "unique        7\n",
       "top       LATAM\n",
       "freq       3060\n",
       "Name: Market, dtype: object"
      ]
     },
     "execution_count": 118,
     "metadata": {},
     "output_type": "execute_result"
    }
   ],
   "source": [
    "data['Market'].describe()"
   ]
  },
  {
   "cell_type": "markdown",
   "metadata": {},
   "source": [
    "### Exploring the sales column"
   ]
  },
  {
   "cell_type": "code",
   "execution_count": 40,
   "metadata": {
    "scrolled": true
   },
   "outputs": [
    {
     "data": {
      "text/html": [
       "<div>\n",
       "<style scoped>\n",
       "    .dataframe tbody tr th:only-of-type {\n",
       "        vertical-align: middle;\n",
       "    }\n",
       "\n",
       "    .dataframe tbody tr th {\n",
       "        vertical-align: top;\n",
       "    }\n",
       "\n",
       "    .dataframe thead th {\n",
       "        text-align: right;\n",
       "    }\n",
       "</style>\n",
       "<table border=\"1\" class=\"dataframe\">\n",
       "  <thead>\n",
       "    <tr style=\"text-align: right;\">\n",
       "      <th></th>\n",
       "      <th>Order Date</th>\n",
       "      <th>Order ID</th>\n",
       "      <th>Customer ID</th>\n",
       "      <th>Customer Name</th>\n",
       "      <th>Segment</th>\n",
       "      <th>City</th>\n",
       "      <th>Market</th>\n",
       "      <th>Region</th>\n",
       "      <th>Category</th>\n",
       "      <th>Sub-Category</th>\n",
       "      <th>Product Name</th>\n",
       "      <th>Sales</th>\n",
       "      <th>Quantity</th>\n",
       "      <th>Discount</th>\n",
       "      <th>Profit</th>\n",
       "    </tr>\n",
       "  </thead>\n",
       "  <tbody>\n",
       "    <tr>\n",
       "      <th>1821</th>\n",
       "      <td>2013-05-04</td>\n",
       "      <td>SG-2013-6790</td>\n",
       "      <td>BS-1665</td>\n",
       "      <td>Brian Stugart</td>\n",
       "      <td>Consumer</td>\n",
       "      <td>Dakar</td>\n",
       "      <td>Africa</td>\n",
       "      <td>Africa</td>\n",
       "      <td>Office Supplies</td>\n",
       "      <td>Art</td>\n",
       "      <td>Stanley Pencil Sharpener, Easy-Erase</td>\n",
       "      <td>52.080</td>\n",
       "      <td>2</td>\n",
       "      <td>0.0</td>\n",
       "      <td>17.700</td>\n",
       "    </tr>\n",
       "    <tr>\n",
       "      <th>2299</th>\n",
       "      <td>2013-06-06</td>\n",
       "      <td>IN-2013-66265</td>\n",
       "      <td>SF-20200</td>\n",
       "      <td>Sarah Foster</td>\n",
       "      <td>Consumer</td>\n",
       "      <td>Newcastle</td>\n",
       "      <td>APAC</td>\n",
       "      <td>Oceania</td>\n",
       "      <td>Office Supplies</td>\n",
       "      <td>Art</td>\n",
       "      <td>Stanley Pencil Sharpener, Easy-Erase</td>\n",
       "      <td>23.436</td>\n",
       "      <td>1</td>\n",
       "      <td>0.1</td>\n",
       "      <td>9.876</td>\n",
       "    </tr>\n",
       "    <tr>\n",
       "      <th>6111</th>\n",
       "      <td>2013-07-14</td>\n",
       "      <td>ES-2013-1526338</td>\n",
       "      <td>ND-18460</td>\n",
       "      <td>Neil Ducich</td>\n",
       "      <td>Corporate</td>\n",
       "      <td>Herne</td>\n",
       "      <td>EU</td>\n",
       "      <td>Central</td>\n",
       "      <td>Office Supplies</td>\n",
       "      <td>Art</td>\n",
       "      <td>Stanley Pencil Sharpener, Easy-Erase</td>\n",
       "      <td>182.280</td>\n",
       "      <td>7</td>\n",
       "      <td>0.0</td>\n",
       "      <td>61.950</td>\n",
       "    </tr>\n",
       "    <tr>\n",
       "      <th>10542</th>\n",
       "      <td>2013-05-24</td>\n",
       "      <td>US-2013-167129</td>\n",
       "      <td>SC-20050</td>\n",
       "      <td>Sample Company A</td>\n",
       "      <td>Home Office</td>\n",
       "      <td>Tegucigalpa</td>\n",
       "      <td>LATAM</td>\n",
       "      <td>Central</td>\n",
       "      <td>Office Supplies</td>\n",
       "      <td>Art</td>\n",
       "      <td>Stanley Pencil Sharpener, Easy-Erase</td>\n",
       "      <td>10.416</td>\n",
       "      <td>1</td>\n",
       "      <td>0.4</td>\n",
       "      <td>-0.704</td>\n",
       "    </tr>\n",
       "    <tr>\n",
       "      <th>10549</th>\n",
       "      <td>2013-05-24</td>\n",
       "      <td>US-2013-127586</td>\n",
       "      <td>SC-20050</td>\n",
       "      <td>Sample Company A</td>\n",
       "      <td>Home Office</td>\n",
       "      <td>Limoeiro do Norte</td>\n",
       "      <td>LATAM</td>\n",
       "      <td>South</td>\n",
       "      <td>Office Supplies</td>\n",
       "      <td>Art</td>\n",
       "      <td>Stanley Pencil Sharpener, Easy-Erase</td>\n",
       "      <td>6.944</td>\n",
       "      <td>1</td>\n",
       "      <td>0.6</td>\n",
       "      <td>-4.176</td>\n",
       "    </tr>\n",
       "  </tbody>\n",
       "</table>\n",
       "</div>"
      ],
      "text/plain": [
       "      Order Date         Order ID Customer ID     Customer Name      Segment  \\\n",
       "1821  2013-05-04     SG-2013-6790     BS-1665     Brian Stugart     Consumer   \n",
       "2299  2013-06-06    IN-2013-66265    SF-20200      Sarah Foster     Consumer   \n",
       "6111  2013-07-14  ES-2013-1526338    ND-18460       Neil Ducich    Corporate   \n",
       "10542 2013-05-24   US-2013-167129    SC-20050  Sample Company A  Home Office   \n",
       "10549 2013-05-24   US-2013-127586    SC-20050  Sample Company A  Home Office   \n",
       "\n",
       "                    City  Market   Region         Category Sub-Category  \\\n",
       "1821               Dakar  Africa   Africa  Office Supplies          Art   \n",
       "2299           Newcastle    APAC  Oceania  Office Supplies          Art   \n",
       "6111               Herne      EU  Central  Office Supplies          Art   \n",
       "10542        Tegucigalpa   LATAM  Central  Office Supplies          Art   \n",
       "10549  Limoeiro do Norte   LATAM    South  Office Supplies          Art   \n",
       "\n",
       "                               Product Name    Sales  Quantity  Discount  \\\n",
       "1821   Stanley Pencil Sharpener, Easy-Erase   52.080         2       0.0   \n",
       "2299   Stanley Pencil Sharpener, Easy-Erase   23.436         1       0.1   \n",
       "6111   Stanley Pencil Sharpener, Easy-Erase  182.280         7       0.0   \n",
       "10542  Stanley Pencil Sharpener, Easy-Erase   10.416         1       0.4   \n",
       "10549  Stanley Pencil Sharpener, Easy-Erase    6.944         1       0.6   \n",
       "\n",
       "       Profit  \n",
       "1821   17.700  \n",
       "2299    9.876  \n",
       "6111   61.950  \n",
       "10542  -0.704  \n",
       "10549  -4.176  "
      ]
     },
     "execution_count": 40,
     "metadata": {},
     "output_type": "execute_result"
    }
   ],
   "source": [
    "#Trying to understand the sales and discount and inorder to calculate unit price\n",
    "data[(data['Product Name'] == 'Stanley Pencil Sharpener, Easy-Erase') & (data['Discount'] >= 0)]"
   ]
  },
  {
   "cell_type": "code",
   "execution_count": 53,
   "metadata": {
    "scrolled": true
   },
   "outputs": [
    {
     "data": {
      "text/plain": [
       "0        1832.46\n",
       "1        1358.28\n",
       "2         809.52\n",
       "3        2189.52\n",
       "4        1362.06\n",
       "          ...   \n",
       "13794      25.20\n",
       "13795      20.65\n",
       "13796       7.98\n",
       "13797       7.38\n",
       "13798      13.02\n",
       "Length: 13796, dtype: float64"
      ]
     },
     "execution_count": 53,
     "metadata": {},
     "output_type": "execute_result"
    }
   ],
   "source": [
    "#calculating the original sales without discounts\n",
    "orig_sales = (1/(1-data['Discount']))*data['Sales']\n",
    "orig_sales"
   ]
  },
  {
   "cell_type": "code",
   "execution_count": 55,
   "metadata": {},
   "outputs": [],
   "source": [
    "#Adding Unit price to the columns\n",
    "data['Unit Price'] = orig_sales/data['Quantity']"
   ]
  },
  {
   "cell_type": "code",
   "execution_count": 65,
   "metadata": {
    "scrolled": true
   },
   "outputs": [
    {
     "data": {
      "text/plain": [
       "array([101.19,  67.46,  67.46])"
      ]
     },
     "execution_count": 65,
     "metadata": {},
     "output_type": "execute_result"
    }
   ],
   "source": [
    "#checking the unique price for one product.\n",
    "\n",
    "data[(data['Product Name'] == 'Logitech Memory Card, Erganomic') & (data['Discount'] >= 0)]['Unit Price'].unique()"
   ]
  },
  {
   "cell_type": "code",
   "execution_count": null,
   "metadata": {},
   "outputs": [],
   "source": []
  },
  {
   "cell_type": "code",
   "execution_count": 70,
   "metadata": {},
   "outputs": [
    {
     "data": {
      "text/html": [
       "<div>\n",
       "<style scoped>\n",
       "    .dataframe tbody tr th:only-of-type {\n",
       "        vertical-align: middle;\n",
       "    }\n",
       "\n",
       "    .dataframe tbody tr th {\n",
       "        vertical-align: top;\n",
       "    }\n",
       "\n",
       "    .dataframe thead th {\n",
       "        text-align: right;\n",
       "    }\n",
       "</style>\n",
       "<table border=\"1\" class=\"dataframe\">\n",
       "  <thead>\n",
       "    <tr style=\"text-align: right;\">\n",
       "      <th></th>\n",
       "      <th>Order Date</th>\n",
       "      <th>Market</th>\n",
       "      <th>Region</th>\n",
       "      <th>Product Name</th>\n",
       "      <th>Unit Price</th>\n",
       "    </tr>\n",
       "  </thead>\n",
       "  <tbody>\n",
       "    <tr>\n",
       "      <th>0</th>\n",
       "      <td>2013-01-01</td>\n",
       "      <td>APAC</td>\n",
       "      <td>Oceania</td>\n",
       "      <td>Canon Copy Machine, Digital</td>\n",
       "      <td>261.78</td>\n",
       "    </tr>\n",
       "    <tr>\n",
       "      <th>1</th>\n",
       "      <td>2013-01-01</td>\n",
       "      <td>APAC</td>\n",
       "      <td>North Asia</td>\n",
       "      <td>Sauder Floating Shelf Set, Metal</td>\n",
       "      <td>194.04</td>\n",
       "    </tr>\n",
       "    <tr>\n",
       "      <th>2</th>\n",
       "      <td>2013-01-01</td>\n",
       "      <td>APAC</td>\n",
       "      <td>Oceania</td>\n",
       "      <td>Logitech Memory Card, Erganomic</td>\n",
       "      <td>101.19</td>\n",
       "    </tr>\n",
       "    <tr>\n",
       "      <th>3</th>\n",
       "      <td>2013-01-01</td>\n",
       "      <td>APAC</td>\n",
       "      <td>North Asia</td>\n",
       "      <td>Dania Library with Doors, Mobile</td>\n",
       "      <td>364.92</td>\n",
       "    </tr>\n",
       "    <tr>\n",
       "      <th>4</th>\n",
       "      <td>2013-01-01</td>\n",
       "      <td>APAC</td>\n",
       "      <td>North Asia</td>\n",
       "      <td>Sauder Floating Shelf Set, Traditional</td>\n",
       "      <td>194.58</td>\n",
       "    </tr>\n",
       "    <tr>\n",
       "      <th>...</th>\n",
       "      <td>...</td>\n",
       "      <td>...</td>\n",
       "      <td>...</td>\n",
       "      <td>...</td>\n",
       "      <td>...</td>\n",
       "    </tr>\n",
       "    <tr>\n",
       "      <th>13794</th>\n",
       "      <td>2013-12-31</td>\n",
       "      <td>EMEA</td>\n",
       "      <td>EMEA</td>\n",
       "      <td>Eldon Light Bulb, Black</td>\n",
       "      <td>25.20</td>\n",
       "    </tr>\n",
       "    <tr>\n",
       "      <th>13795</th>\n",
       "      <td>2013-12-31</td>\n",
       "      <td>US</td>\n",
       "      <td>East</td>\n",
       "      <td>Newell 31</td>\n",
       "      <td>4.13</td>\n",
       "    </tr>\n",
       "    <tr>\n",
       "      <th>13796</th>\n",
       "      <td>2013-12-31</td>\n",
       "      <td>US</td>\n",
       "      <td>West</td>\n",
       "      <td>Cardinal Hold-It CD Pocket</td>\n",
       "      <td>7.98</td>\n",
       "    </tr>\n",
       "    <tr>\n",
       "      <th>13797</th>\n",
       "      <td>2013-12-31</td>\n",
       "      <td>US</td>\n",
       "      <td>East</td>\n",
       "      <td>Avery 487</td>\n",
       "      <td>3.69</td>\n",
       "    </tr>\n",
       "    <tr>\n",
       "      <th>13798</th>\n",
       "      <td>2013-12-31</td>\n",
       "      <td>EMEA</td>\n",
       "      <td>EMEA</td>\n",
       "      <td>Wilson Jones Binder, Economy</td>\n",
       "      <td>13.02</td>\n",
       "    </tr>\n",
       "  </tbody>\n",
       "</table>\n",
       "<p>13796 rows × 5 columns</p>\n",
       "</div>"
      ],
      "text/plain": [
       "      Order Date Market      Region                            Product Name  \\\n",
       "0     2013-01-01   APAC     Oceania             Canon Copy Machine, Digital   \n",
       "1     2013-01-01   APAC  North Asia        Sauder Floating Shelf Set, Metal   \n",
       "2     2013-01-01   APAC     Oceania         Logitech Memory Card, Erganomic   \n",
       "3     2013-01-01   APAC  North Asia        Dania Library with Doors, Mobile   \n",
       "4     2013-01-01   APAC  North Asia  Sauder Floating Shelf Set, Traditional   \n",
       "...          ...    ...         ...                                     ...   \n",
       "13794 2013-12-31   EMEA        EMEA                 Eldon Light Bulb, Black   \n",
       "13795 2013-12-31     US        East                               Newell 31   \n",
       "13796 2013-12-31     US        West              Cardinal Hold-It CD Pocket   \n",
       "13797 2013-12-31     US        East                               Avery 487   \n",
       "13798 2013-12-31   EMEA        EMEA            Wilson Jones Binder, Economy   \n",
       "\n",
       "       Unit Price  \n",
       "0          261.78  \n",
       "1          194.04  \n",
       "2          101.19  \n",
       "3          364.92  \n",
       "4          194.58  \n",
       "...           ...  \n",
       "13794       25.20  \n",
       "13795        4.13  \n",
       "13796        7.98  \n",
       "13797        3.69  \n",
       "13798       13.02  \n",
       "\n",
       "[13796 rows x 5 columns]"
      ]
     },
     "execution_count": 70,
     "metadata": {},
     "output_type": "execute_result"
    }
   ],
   "source": [
    "#Subseting to compare unit price in the various market and region\n",
    "view = data[['Order Date','Market','Region', 'Product Name','Unit Price']]\n",
    "view"
   ]
  },
  {
   "cell_type": "code",
   "execution_count": 71,
   "metadata": {},
   "outputs": [
    {
     "data": {
      "text/html": [
       "<div>\n",
       "<style scoped>\n",
       "    .dataframe tbody tr th:only-of-type {\n",
       "        vertical-align: middle;\n",
       "    }\n",
       "\n",
       "    .dataframe tbody tr th {\n",
       "        vertical-align: top;\n",
       "    }\n",
       "\n",
       "    .dataframe thead th {\n",
       "        text-align: right;\n",
       "    }\n",
       "</style>\n",
       "<table border=\"1\" class=\"dataframe\">\n",
       "  <thead>\n",
       "    <tr style=\"text-align: right;\">\n",
       "      <th></th>\n",
       "      <th>Order Date</th>\n",
       "      <th>Market</th>\n",
       "      <th>Region</th>\n",
       "      <th>Product Name</th>\n",
       "      <th>Unit Price</th>\n",
       "    </tr>\n",
       "  </thead>\n",
       "  <tbody>\n",
       "    <tr>\n",
       "      <th>0</th>\n",
       "      <td>2013-01-01</td>\n",
       "      <td>APAC</td>\n",
       "      <td>Oceania</td>\n",
       "      <td>Canon Copy Machine, Digital</td>\n",
       "      <td>261.78</td>\n",
       "    </tr>\n",
       "    <tr>\n",
       "      <th>3818</th>\n",
       "      <td>2013-09-10</td>\n",
       "      <td>APAC</td>\n",
       "      <td>Oceania</td>\n",
       "      <td>Canon Copy Machine, Digital</td>\n",
       "      <td>261.78</td>\n",
       "    </tr>\n",
       "    <tr>\n",
       "      <th>4056</th>\n",
       "      <td>2013-10-05</td>\n",
       "      <td>EU</td>\n",
       "      <td>Central</td>\n",
       "      <td>Canon Copy Machine, Digital</td>\n",
       "      <td>261.78</td>\n",
       "    </tr>\n",
       "    <tr>\n",
       "      <th>10143</th>\n",
       "      <td>2013-07-23</td>\n",
       "      <td>LATAM</td>\n",
       "      <td>Caribbean</td>\n",
       "      <td>Canon Copy Machine, Digital</td>\n",
       "      <td>174.52</td>\n",
       "    </tr>\n",
       "    <tr>\n",
       "      <th>12862</th>\n",
       "      <td>2013-05-29</td>\n",
       "      <td>EU</td>\n",
       "      <td>Central</td>\n",
       "      <td>Canon Copy Machine, Digital</td>\n",
       "      <td>261.78</td>\n",
       "    </tr>\n",
       "  </tbody>\n",
       "</table>\n",
       "</div>"
      ],
      "text/plain": [
       "      Order Date Market     Region                 Product Name  Unit Price\n",
       "0     2013-01-01   APAC    Oceania  Canon Copy Machine, Digital      261.78\n",
       "3818  2013-09-10   APAC    Oceania  Canon Copy Machine, Digital      261.78\n",
       "4056  2013-10-05     EU    Central  Canon Copy Machine, Digital      261.78\n",
       "10143 2013-07-23  LATAM  Caribbean  Canon Copy Machine, Digital      174.52\n",
       "12862 2013-05-29     EU    Central  Canon Copy Machine, Digital      261.78"
      ]
     },
     "execution_count": 71,
     "metadata": {},
     "output_type": "execute_result"
    }
   ],
   "source": [
    "view[view['Product Name']=='Canon Copy Machine, Digital']"
   ]
  },
  {
   "cell_type": "code",
   "execution_count": 72,
   "metadata": {
    "scrolled": true
   },
   "outputs": [
    {
     "data": {
      "text/html": [
       "<div>\n",
       "<style scoped>\n",
       "    .dataframe tbody tr th:only-of-type {\n",
       "        vertical-align: middle;\n",
       "    }\n",
       "\n",
       "    .dataframe tbody tr th {\n",
       "        vertical-align: top;\n",
       "    }\n",
       "\n",
       "    .dataframe thead th {\n",
       "        text-align: right;\n",
       "    }\n",
       "</style>\n",
       "<table border=\"1\" class=\"dataframe\">\n",
       "  <thead>\n",
       "    <tr style=\"text-align: right;\">\n",
       "      <th></th>\n",
       "      <th>Order Date</th>\n",
       "      <th>Market</th>\n",
       "      <th>Region</th>\n",
       "      <th>Product Name</th>\n",
       "      <th>Unit Price</th>\n",
       "    </tr>\n",
       "  </thead>\n",
       "  <tbody>\n",
       "    <tr>\n",
       "      <th>1</th>\n",
       "      <td>2013-01-01</td>\n",
       "      <td>APAC</td>\n",
       "      <td>North Asia</td>\n",
       "      <td>Sauder Floating Shelf Set, Metal</td>\n",
       "      <td>194.04</td>\n",
       "    </tr>\n",
       "    <tr>\n",
       "      <th>1524</th>\n",
       "      <td>2013-04-10</td>\n",
       "      <td>EU</td>\n",
       "      <td>Central</td>\n",
       "      <td>Sauder Floating Shelf Set, Metal</td>\n",
       "      <td>194.04</td>\n",
       "    </tr>\n",
       "    <tr>\n",
       "      <th>5871</th>\n",
       "      <td>2013-12-13</td>\n",
       "      <td>EU</td>\n",
       "      <td>North</td>\n",
       "      <td>Sauder Floating Shelf Set, Metal</td>\n",
       "      <td>194.04</td>\n",
       "    </tr>\n",
       "    <tr>\n",
       "      <th>7002</th>\n",
       "      <td>2013-08-16</td>\n",
       "      <td>APAC</td>\n",
       "      <td>North Asia</td>\n",
       "      <td>Sauder Floating Shelf Set, Metal</td>\n",
       "      <td>194.04</td>\n",
       "    </tr>\n",
       "    <tr>\n",
       "      <th>7581</th>\n",
       "      <td>2013-10-17</td>\n",
       "      <td>LATAM</td>\n",
       "      <td>Caribbean</td>\n",
       "      <td>Sauder Floating Shelf Set, Metal</td>\n",
       "      <td>129.36</td>\n",
       "    </tr>\n",
       "  </tbody>\n",
       "</table>\n",
       "</div>"
      ],
      "text/plain": [
       "     Order Date Market      Region                      Product Name  \\\n",
       "1    2013-01-01   APAC  North Asia  Sauder Floating Shelf Set, Metal   \n",
       "1524 2013-04-10     EU     Central  Sauder Floating Shelf Set, Metal   \n",
       "5871 2013-12-13     EU       North  Sauder Floating Shelf Set, Metal   \n",
       "7002 2013-08-16   APAC  North Asia  Sauder Floating Shelf Set, Metal   \n",
       "7581 2013-10-17  LATAM   Caribbean  Sauder Floating Shelf Set, Metal   \n",
       "\n",
       "      Unit Price  \n",
       "1         194.04  \n",
       "1524      194.04  \n",
       "5871      194.04  \n",
       "7002      194.04  \n",
       "7581      129.36  "
      ]
     },
     "execution_count": 72,
     "metadata": {},
     "output_type": "execute_result"
    }
   ],
   "source": [
    "view[view['Product Name']=='Sauder Floating Shelf Set, Metal']"
   ]
  },
  {
   "cell_type": "markdown",
   "metadata": {},
   "source": [
    "#### Prices are not the same in all the markets. Why?????"
   ]
  },
  {
   "cell_type": "code",
   "execution_count": null,
   "metadata": {},
   "outputs": [],
   "source": []
  },
  {
   "cell_type": "code",
   "execution_count": null,
   "metadata": {},
   "outputs": [],
   "source": []
  },
  {
   "cell_type": "code",
   "execution_count": 88,
   "metadata": {},
   "outputs": [
    {
     "data": {
      "text/html": [
       "<div>\n",
       "<style scoped>\n",
       "    .dataframe tbody tr th:only-of-type {\n",
       "        vertical-align: middle;\n",
       "    }\n",
       "\n",
       "    .dataframe tbody tr th {\n",
       "        vertical-align: top;\n",
       "    }\n",
       "\n",
       "    .dataframe thead th {\n",
       "        text-align: right;\n",
       "    }\n",
       "</style>\n",
       "<table border=\"1\" class=\"dataframe\">\n",
       "  <thead>\n",
       "    <tr style=\"text-align: right;\">\n",
       "      <th></th>\n",
       "      <th>Order Date</th>\n",
       "      <th>Market</th>\n",
       "      <th>Region</th>\n",
       "      <th>Product Name</th>\n",
       "      <th>Unit Price</th>\n",
       "    </tr>\n",
       "  </thead>\n",
       "  <tbody>\n",
       "    <tr>\n",
       "      <th>2608</th>\n",
       "      <td>2013-06-12</td>\n",
       "      <td>LATAM</td>\n",
       "      <td>Central</td>\n",
       "      <td>Wilson Jones 3-Hole Punch, Economy</td>\n",
       "      <td>18.66</td>\n",
       "    </tr>\n",
       "    <tr>\n",
       "      <th>4422</th>\n",
       "      <td>2013-11-02</td>\n",
       "      <td>EU</td>\n",
       "      <td>South</td>\n",
       "      <td>Wilson Jones 3-Hole Punch, Economy</td>\n",
       "      <td>27.99</td>\n",
       "    </tr>\n",
       "    <tr>\n",
       "      <th>6095</th>\n",
       "      <td>2013-06-14</td>\n",
       "      <td>EU</td>\n",
       "      <td>South</td>\n",
       "      <td>Wilson Jones 3-Hole Punch, Economy</td>\n",
       "      <td>27.99</td>\n",
       "    </tr>\n",
       "    <tr>\n",
       "      <th>6868</th>\n",
       "      <td>2013-02-16</td>\n",
       "      <td>EU</td>\n",
       "      <td>Central</td>\n",
       "      <td>Wilson Jones 3-Hole Punch, Economy</td>\n",
       "      <td>27.99</td>\n",
       "    </tr>\n",
       "    <tr>\n",
       "      <th>6940</th>\n",
       "      <td>2013-05-16</td>\n",
       "      <td>LATAM</td>\n",
       "      <td>North</td>\n",
       "      <td>Wilson Jones 3-Hole Punch, Economy</td>\n",
       "      <td>18.66</td>\n",
       "    </tr>\n",
       "    <tr>\n",
       "      <th>7301</th>\n",
       "      <td>2013-01-17</td>\n",
       "      <td>EU</td>\n",
       "      <td>Central</td>\n",
       "      <td>Wilson Jones 3-Hole Punch, Economy</td>\n",
       "      <td>27.99</td>\n",
       "    </tr>\n",
       "    <tr>\n",
       "      <th>7351</th>\n",
       "      <td>2013-05-17</td>\n",
       "      <td>Africa</td>\n",
       "      <td>Africa</td>\n",
       "      <td>Wilson Jones 3-Hole Punch, Economy</td>\n",
       "      <td>27.99</td>\n",
       "    </tr>\n",
       "    <tr>\n",
       "      <th>9505</th>\n",
       "      <td>2013-11-21</td>\n",
       "      <td>LATAM</td>\n",
       "      <td>Caribbean</td>\n",
       "      <td>Wilson Jones 3-Hole Punch, Economy</td>\n",
       "      <td>18.66</td>\n",
       "    </tr>\n",
       "    <tr>\n",
       "      <th>10262</th>\n",
       "      <td>2013-09-23</td>\n",
       "      <td>APAC</td>\n",
       "      <td>Central Asia</td>\n",
       "      <td>Wilson Jones 3-Hole Punch, Economy</td>\n",
       "      <td>27.99</td>\n",
       "    </tr>\n",
       "    <tr>\n",
       "      <th>10366</th>\n",
       "      <td>2013-11-23</td>\n",
       "      <td>Africa</td>\n",
       "      <td>Africa</td>\n",
       "      <td>Wilson Jones 3-Hole Punch, Economy</td>\n",
       "      <td>27.99</td>\n",
       "    </tr>\n",
       "    <tr>\n",
       "      <th>12169</th>\n",
       "      <td>2013-09-27</td>\n",
       "      <td>EU</td>\n",
       "      <td>South</td>\n",
       "      <td>Wilson Jones 3-Hole Punch, Economy</td>\n",
       "      <td>27.99</td>\n",
       "    </tr>\n",
       "  </tbody>\n",
       "</table>\n",
       "</div>"
      ],
      "text/plain": [
       "      Order Date  Market        Region                        Product Name  \\\n",
       "2608  2013-06-12   LATAM       Central  Wilson Jones 3-Hole Punch, Economy   \n",
       "4422  2013-11-02      EU         South  Wilson Jones 3-Hole Punch, Economy   \n",
       "6095  2013-06-14      EU         South  Wilson Jones 3-Hole Punch, Economy   \n",
       "6868  2013-02-16      EU       Central  Wilson Jones 3-Hole Punch, Economy   \n",
       "6940  2013-05-16   LATAM         North  Wilson Jones 3-Hole Punch, Economy   \n",
       "7301  2013-01-17      EU       Central  Wilson Jones 3-Hole Punch, Economy   \n",
       "7351  2013-05-17  Africa        Africa  Wilson Jones 3-Hole Punch, Economy   \n",
       "9505  2013-11-21   LATAM     Caribbean  Wilson Jones 3-Hole Punch, Economy   \n",
       "10262 2013-09-23    APAC  Central Asia  Wilson Jones 3-Hole Punch, Economy   \n",
       "10366 2013-11-23  Africa        Africa  Wilson Jones 3-Hole Punch, Economy   \n",
       "12169 2013-09-27      EU         South  Wilson Jones 3-Hole Punch, Economy   \n",
       "\n",
       "       Unit Price  \n",
       "2608        18.66  \n",
       "4422        27.99  \n",
       "6095        27.99  \n",
       "6868        27.99  \n",
       "6940        18.66  \n",
       "7301        27.99  \n",
       "7351        27.99  \n",
       "9505        18.66  \n",
       "10262       27.99  \n",
       "10366       27.99  \n",
       "12169       27.99  "
      ]
     },
     "execution_count": 88,
     "metadata": {},
     "output_type": "execute_result"
    }
   ],
   "source": [
    "view[view['Product Name']=='Wilson Jones 3-Hole Punch, Economy']"
   ]
  },
  {
   "cell_type": "code",
   "execution_count": 81,
   "metadata": {},
   "outputs": [
    {
     "data": {
      "text/plain": [
       "Market  Product Name                                  Unit Price\n",
       "APAC    Office Star Rocking Chair, Set of Two         143.16        6\n",
       "        SAFCO Rocking Chair, Red                      134.91        6\n",
       "        Brother Personal Copier, High-Speed           141.09        5\n",
       "        Rubbermaid Stacking Tray, Black               25.20         5\n",
       "        Stanley Canvas, Water Color                   52.65         5\n",
       "                                                                   ..\n",
       "US      12-1/2 Diameter Round Wall Clock              19.98         1\n",
       "        12 Colored Short Pencils                      2.60          1\n",
       "        #10- 4 1/8\" x 9 1/2\" Security-Tint Envelopes  7.64          1\n",
       "        #10 Self-Seal White Envelopes                 11.09         1\n",
       "        netTALK DUO VoIP Telephone Service            52.49         1\n",
       "Length: 8950, dtype: int64"
      ]
     },
     "execution_count": 81,
     "metadata": {},
     "output_type": "execute_result"
    }
   ],
   "source": [
    "view1 = view.groupby('Market')[['Product Name','Unit Price']].value_counts()\n",
    "view1"
   ]
  },
  {
   "cell_type": "code",
   "execution_count": null,
   "metadata": {},
   "outputs": [],
   "source": []
  },
  {
   "cell_type": "code",
   "execution_count": 89,
   "metadata": {
    "scrolled": true
   },
   "outputs": [
    {
     "data": {
      "text/html": [
       "<div>\n",
       "<style scoped>\n",
       "    .dataframe tbody tr th:only-of-type {\n",
       "        vertical-align: middle;\n",
       "    }\n",
       "\n",
       "    .dataframe tbody tr th {\n",
       "        vertical-align: top;\n",
       "    }\n",
       "\n",
       "    .dataframe thead th {\n",
       "        text-align: right;\n",
       "    }\n",
       "</style>\n",
       "<table border=\"1\" class=\"dataframe\">\n",
       "  <thead>\n",
       "    <tr style=\"text-align: right;\">\n",
       "      <th></th>\n",
       "      <th>Sales</th>\n",
       "      <th>Quantity</th>\n",
       "      <th>Discount</th>\n",
       "      <th>Profit</th>\n",
       "      <th>Unit Price</th>\n",
       "    </tr>\n",
       "  </thead>\n",
       "  <tbody>\n",
       "    <tr>\n",
       "      <th>count</th>\n",
       "      <td>13796.000000</td>\n",
       "      <td>13796.000000</td>\n",
       "      <td>13796.000000</td>\n",
       "      <td>13796.000000</td>\n",
       "      <td>13796.000000</td>\n",
       "    </tr>\n",
       "    <tr>\n",
       "      <th>mean</th>\n",
       "      <td>246.855505</td>\n",
       "      <td>3.488765</td>\n",
       "      <td>0.140289</td>\n",
       "      <td>29.493298</td>\n",
       "      <td>84.064417</td>\n",
       "    </tr>\n",
       "    <tr>\n",
       "      <th>std</th>\n",
       "      <td>494.763858</td>\n",
       "      <td>2.280212</td>\n",
       "      <td>0.210067</td>\n",
       "      <td>190.381857</td>\n",
       "      <td>132.628770</td>\n",
       "    </tr>\n",
       "    <tr>\n",
       "      <th>min</th>\n",
       "      <td>0.836000</td>\n",
       "      <td>1.000000</td>\n",
       "      <td>0.000000</td>\n",
       "      <td>-6599.978000</td>\n",
       "      <td>0.990000</td>\n",
       "    </tr>\n",
       "    <tr>\n",
       "      <th>25%</th>\n",
       "      <td>30.825000</td>\n",
       "      <td>2.000000</td>\n",
       "      <td>0.000000</td>\n",
       "      <td>0.000000</td>\n",
       "      <td>14.220000</td>\n",
       "    </tr>\n",
       "    <tr>\n",
       "      <th>50%</th>\n",
       "      <td>85.246000</td>\n",
       "      <td>3.000000</td>\n",
       "      <td>0.000000</td>\n",
       "      <td>9.240000</td>\n",
       "      <td>34.650000</td>\n",
       "    </tr>\n",
       "    <tr>\n",
       "      <th>75%</th>\n",
       "      <td>249.720000</td>\n",
       "      <td>5.000000</td>\n",
       "      <td>0.200000</td>\n",
       "      <td>36.868000</td>\n",
       "      <td>100.080000</td>\n",
       "    </tr>\n",
       "    <tr>\n",
       "      <th>max</th>\n",
       "      <td>17499.950000</td>\n",
       "      <td>14.000000</td>\n",
       "      <td>0.800000</td>\n",
       "      <td>8399.976000</td>\n",
       "      <td>3499.990000</td>\n",
       "    </tr>\n",
       "  </tbody>\n",
       "</table>\n",
       "</div>"
      ],
      "text/plain": [
       "              Sales      Quantity      Discount        Profit    Unit Price\n",
       "count  13796.000000  13796.000000  13796.000000  13796.000000  13796.000000\n",
       "mean     246.855505      3.488765      0.140289     29.493298     84.064417\n",
       "std      494.763858      2.280212      0.210067    190.381857    132.628770\n",
       "min        0.836000      1.000000      0.000000  -6599.978000      0.990000\n",
       "25%       30.825000      2.000000      0.000000      0.000000     14.220000\n",
       "50%       85.246000      3.000000      0.000000      9.240000     34.650000\n",
       "75%      249.720000      5.000000      0.200000     36.868000    100.080000\n",
       "max    17499.950000     14.000000      0.800000   8399.976000   3499.990000"
      ]
     },
     "execution_count": 89,
     "metadata": {},
     "output_type": "execute_result"
    }
   ],
   "source": [
    "data.describe()"
   ]
  },
  {
   "cell_type": "code",
   "execution_count": 102,
   "metadata": {},
   "outputs": [
    {
     "data": {
      "text/plain": [
       "<AxesSubplot:>"
      ]
     },
     "execution_count": 102,
     "metadata": {},
     "output_type": "execute_result"
    },
    {
     "data": {
      "image/png": "[encoded data removed]",
      "text/plain": [
       "<Figure size 432x288 with 1 Axes>"
      ]
     },
     "metadata": {
      "needs_background": "light"
     },
     "output_type": "display_data"
    }
   ],
   "source": [
    "#checking distribution\n",
    "data['Profit'].hist(bins = 100)"
   ]
  },
  {
   "cell_type": "code",
   "execution_count": 109,
   "metadata": {},
   "outputs": [
    {
     "data": {
      "text/html": [
       "<div>\n",
       "<style scoped>\n",
       "    .dataframe tbody tr th:only-of-type {\n",
       "        vertical-align: middle;\n",
       "    }\n",
       "\n",
       "    .dataframe tbody tr th {\n",
       "        vertical-align: top;\n",
       "    }\n",
       "\n",
       "    .dataframe thead th {\n",
       "        text-align: right;\n",
       "    }\n",
       "</style>\n",
       "<table border=\"1\" class=\"dataframe\">\n",
       "  <thead>\n",
       "    <tr style=\"text-align: right;\">\n",
       "      <th></th>\n",
       "      <th>Order Date</th>\n",
       "      <th>Order ID</th>\n",
       "      <th>Customer ID</th>\n",
       "      <th>Customer Name</th>\n",
       "      <th>Segment</th>\n",
       "      <th>City</th>\n",
       "      <th>Market</th>\n",
       "      <th>Region</th>\n",
       "      <th>Category</th>\n",
       "      <th>Sub-Category</th>\n",
       "      <th>Product Name</th>\n",
       "      <th>Sales</th>\n",
       "      <th>Quantity</th>\n",
       "      <th>Discount</th>\n",
       "      <th>Profit</th>\n",
       "      <th>Unit Price</th>\n",
       "    </tr>\n",
       "  </thead>\n",
       "  <tbody>\n",
       "    <tr>\n",
       "      <th>11713</th>\n",
       "      <td>2013-11-26</td>\n",
       "      <td>CA-2013-108196</td>\n",
       "      <td>CS-12505</td>\n",
       "      <td>Cindy Stewart</td>\n",
       "      <td>Consumer</td>\n",
       "      <td>Lancaster</td>\n",
       "      <td>US</td>\n",
       "      <td>East</td>\n",
       "      <td>Technology</td>\n",
       "      <td>Machines</td>\n",
       "      <td>Cubify CubeX 3D Printer Double Head Print</td>\n",
       "      <td>4499.985</td>\n",
       "      <td>5</td>\n",
       "      <td>0.7</td>\n",
       "      <td>-6599.978</td>\n",
       "      <td>2999.99</td>\n",
       "    </tr>\n",
       "  </tbody>\n",
       "</table>\n",
       "</div>"
      ],
      "text/plain": [
       "      Order Date        Order ID Customer ID  Customer Name   Segment  \\\n",
       "11713 2013-11-26  CA-2013-108196    CS-12505  Cindy Stewart  Consumer   \n",
       "\n",
       "            City Market Region    Category Sub-Category  \\\n",
       "11713  Lancaster     US   East  Technology     Machines   \n",
       "\n",
       "                                    Product Name     Sales  Quantity  \\\n",
       "11713  Cubify CubeX 3D Printer Double Head Print  4499.985         5   \n",
       "\n",
       "       Discount    Profit  Unit Price  \n",
       "11713       0.7 -6599.978     2999.99  "
      ]
     },
     "execution_count": 109,
     "metadata": {},
     "output_type": "execute_result"
    }
   ],
   "source": [
    "data[data['Profit']==-6599.978]"
   ]
  },
  {
   "cell_type": "code",
   "execution_count": 112,
   "metadata": {},
   "outputs": [
    {
     "data": {
      "text/plain": [
       "{'whiskers': [<matplotlib.lines.Line2D at 0x290b2548070>,\n",
       "  <matplotlib.lines.Line2D at 0x290b2548340>],\n",
       " 'caps': [<matplotlib.lines.Line2D at 0x290b2548610>,\n",
       "  <matplotlib.lines.Line2D at 0x290b25488e0>],\n",
       " 'boxes': [<matplotlib.lines.Line2D at 0x290b2503d60>],\n",
       " 'medians': [<matplotlib.lines.Line2D at 0x290b2548bb0>],\n",
       " 'fliers': [<matplotlib.lines.Line2D at 0x290b2548e80>],\n",
       " 'means': []}"
      ]
     },
     "execution_count": 112,
     "metadata": {},
     "output_type": "execute_result"
    },
    {
     "data": {
      "image/png": "[encoded data removed]",
      "text/plain": [
       "<Figure size 432x288 with 1 Axes>"
      ]
     },
     "metadata": {
      "needs_background": "light"
     },
     "output_type": "display_data"
    }
   ],
   "source": [
    "#checking for outliers\n",
    "\n",
    "plt.boxplot(data['Sales'])"
   ]
  },
  {
   "cell_type": "code",
   "execution_count": 114,
   "metadata": {},
   "outputs": [
    {
     "data": {
      "text/plain": [
       "{'whiskers': [<matplotlib.lines.Line2D at 0x290b25e34c0>,\n",
       "  <matplotlib.lines.Line2D at 0x290b25e3790>],\n",
       " 'caps': [<matplotlib.lines.Line2D at 0x290b25e3a60>,\n",
       "  <matplotlib.lines.Line2D at 0x290b25e3d30>],\n",
       " 'boxes': [<matplotlib.lines.Line2D at 0x290b25e31f0>],\n",
       " 'medians': [<matplotlib.lines.Line2D at 0x290b25ed040>],\n",
       " 'fliers': [<matplotlib.lines.Line2D at 0x290b25ed310>],\n",
       " 'means': []}"
      ]
     },
     "execution_count": 114,
     "metadata": {},
     "output_type": "execute_result"
    },
    {
     "data": {
      "image/png": "[encoded data removed]",
      "text/plain": [
       "<Figure size 432x288 with 1 Axes>"
      ]
     },
     "metadata": {
      "needs_background": "light"
     },
     "output_type": "display_data"
    }
   ],
   "source": [
    "#checking for outliers\n",
    "\n",
    "plt.boxplot(data['Quantity'])"
   ]
  },
  {
   "cell_type": "code",
   "execution_count": null,
   "metadata": {},
   "outputs": [],
   "source": []
  },
  {
   "cell_type": "code",
   "execution_count": null,
   "metadata": {},
   "outputs": [],
   "source": []
  },
  {
   "cell_type": "code",
   "execution_count": null,
   "metadata": {},
   "outputs": [],
   "source": []
  },
  {
   "cell_type": "code",
   "execution_count": null,
   "metadata": {},
   "outputs": [],
   "source": []
  },
  {
   "cell_type": "code",
   "execution_count": null,
   "metadata": {},
   "outputs": [],
   "source": []
  },
  {
   "cell_type": "code",
   "execution_count": null,
   "metadata": {},
   "outputs": [],
   "source": []
  },
  {
   "cell_type": "code",
   "execution_count": null,
   "metadata": {},
   "outputs": [],
   "source": []
  },
  {
   "cell_type": "code",
   "execution_count": null,
   "metadata": {},
   "outputs": [],
   "source": []
  },
  {
   "cell_type": "code",
   "execution_count": null,
   "metadata": {},
   "outputs": [],
   "source": []
  },
  {
   "cell_type": "markdown",
   "metadata": {},
   "source": [
    "### Hints on Data preparation and exploration \n",
    "\n",
    "1. Load the data.\n",
    "2. Inspect the data\n",
    "3. Check for missing values\n",
    "4. Check the data of each column\n",
    "5. Check the different categories in the categorical variables\n",
    "6. Take a view of the data\n",
    "7. Take the descritive statistics for the numerical variables\n",
    "9. Check the ditribution of the variables\n",
    "10. Feature Engineering\n",
    "#Create columns for:\n",
    "\n",
    "#Unit price (sale/quantity)\n",
    "\n",
    "#Year\n",
    "\n",
    "#Month\n",
    "\n",
    "#interval between the order date and the shipping date in days.\n"
   ]
  },
  {
   "cell_type": "markdown",
   "metadata": {},
   "source": [
    "## Hints on the analysis "
   ]
  },
  {
   "cell_type": "markdown",
   "metadata": {},
   "source": [
    "### Check: The following  possible questions may of interest to you.\n",
    "\n",
    "1. What is the sales and profit per market? \n",
    "\n",
    "2. What is the most and least profitable market?\n",
    "\n",
    "3. How are you going to increase the sales for the products that least bought?\n",
    "\n",
    "4. Which month does the company records more sales?\n",
    "\n",
    "5. What is the correlation between discount and sale?\n",
    "\n",
    "6. Does the shipping cost affect the sales?\n",
    "\n",
    "7. What is the dominant product category in each market?\n",
    "\n",
    "8. City with most orders for a given product category?\n",
    "\n",
    "9. which products are making loss?\n",
    "\n",
    "10. Which segment provides more profit?\n",
    "\n",
    "11. what is the correlation between quantity and profit?\n",
    "\n",
    "12. what it the correlation between shipping cost and profit?\n",
    "\n",
    "13. Which order priority yields more sales?\n",
    "\n",
    "14. What is the average shipping cost to each region?\n",
    "\n",
    "15. What product categories should be targetted to the  different markets?\n",
    "\n",
    "16. Does the interval between the order date and the shipping date affect sale and profit\n"
   ]
  },
  {
   "cell_type": "code",
   "execution_count": null,
   "metadata": {},
   "outputs": [],
   "source": []
  }
 ],
 "metadata": {
  "kernelspec": {
   "display_name": "Python 3 (ipykernel)",
   "language": "python",
   "name": "python3"
  },
  "language_info": {
   "codemirror_mode": {
    "name": "ipython",
    "version": 3
   },
   "file_extension": ".py",
   "mimetype": "text/x-python",
   "name": "python",
   "nbconvert_exporter": "python",
   "pygments_lexer": "ipython3",
   "version": "3.9.12"
  }
 },
 "nbformat": 4,
 "nbformat_minor": 4
}
